{
  "nbformat": 4,
  "nbformat_minor": 0,
  "metadata": {
    "colab": {
      "provenance": [],
      "authorship_tag": "ABX9TyPPYHpOMDTF5i0Ode3GHt9A",
      "include_colab_link": true
    },
    "kernelspec": {
      "name": "python3",
      "display_name": "Python 3"
    },
    "language_info": {
      "name": "python"
    }
  },
  "cells": [
    {
      "cell_type": "markdown",
      "metadata": {
        "id": "view-in-github",
        "colab_type": "text"
      },
      "source": [
        "<a href=\"https://colab.research.google.com/github/lowQuant/QuantIdeas/blob/master/Diversification_Benefit_Example.ipynb\" target=\"_parent\"><img src=\"https://colab.research.google.com/assets/colab-badge.svg\" alt=\"Open In Colab\"/></a>"
      ]
    },
    {
      "cell_type": "code",
      "execution_count": 1,
      "metadata": {
        "id": "TqIzxIYnCNDO"
      },
      "outputs": [],
      "source": [
        "import numpy as np\n",
        "import matplotlib.pyplot as plt\n",
        "\n",
        "np.random.seed(42)\n",
        "\n",
        "num_assets = 60\n",
        "num_portfolios = 10000\n",
        "expected_return = 0.1\n",
        "risk = 0.1\n",
        "correlation = 0"
      ]
    },
    {
      "cell_type": "markdown",
      "source": [
        "Generating Random Returns"
      ],
      "metadata": {
        "id": "TTWy_LQIChJo"
      }
    },
    {
      "cell_type": "code",
      "source": [
        "# Generate random returns for each asset\n",
        "returns = np.random.normal(expected_return, risk, size=(num_portfolios, num_assets))"
      ],
      "metadata": {
        "id": "tH3cs-n7CZnO"
      },
      "execution_count": 2,
      "outputs": []
    },
    {
      "cell_type": "markdown",
      "source": [
        "Creating the Correlation Matrix"
      ],
      "metadata": {
        "id": "p7hpIku3CsJ2"
      }
    },
    {
      "cell_type": "code",
      "source": [
        "# Generate the correlation matrix\n",
        "correlation_matrix = np.full((num_assets, num_assets), correlation)\n",
        "np.fill_diagonal(correlation_matrix, 1)"
      ],
      "metadata": {
        "id": "DqJDnzo4Cpws"
      },
      "execution_count": 5,
      "outputs": []
    },
    {
      "cell_type": "markdown",
      "source": [
        "Calculating the Portfolio Risk"
      ],
      "metadata": {
        "id": "fqRkBGgrC1sQ"
      }
    },
    {
      "cell_type": "code",
      "source": [
        "# Calculate the portfolio risk\n",
        "portfolio_risks = []\n",
        "for i in range(1, num_assets + 1):\n",
        "    portfolio_weights = np.full(i, 1 / i)\n",
        "    portfolio_return = returns[:, :i] @ portfolio_weights\n",
        "    portfolio_std = np.sqrt(portfolio_weights @ correlation_matrix[:i, :i] @ portfolio_weights)\n",
        "    portfolio_risks.append(portfolio_std)\n"
      ],
      "metadata": {
        "id": "mbglgHIDCyA3"
      },
      "execution_count": 6,
      "outputs": []
    },
    {
      "cell_type": "markdown",
      "source": [
        "Plotting the Results"
      ],
      "metadata": {
        "id": "5ovYTvJqC8Mq"
      }
    },
    {
      "cell_type": "code",
      "source": [
        "# Plot the portfolio risk as a function of the number of assets\n",
        "plt.plot(range(1, num_assets + 1), portfolio_risks, marker='o')\n",
        "plt.xlabel(\"Number of Uncorrelated Assets\")\n",
        "plt.ylabel(\"Portfolio Risk\")\n",
        "plt.title(\"Risk Reduction through Diversification\")\n",
        "plt.show()"
      ],
      "metadata": {
        "colab": {
          "base_uri": "https://localhost:8080/",
          "height": 295
        },
        "id": "d0KTan2tC9qt",
        "outputId": "99f4925d-a824-4a07-c444-5ad6d74efcc6"
      },
      "execution_count": 7,
      "outputs": [
        {
          "output_type": "display_data",
          "data": {
            "text/plain": [
              "<Figure size 432x288 with 1 Axes>"
            ],
            "image/png": "[encoded data removed]"
          },
          "metadata": {
            "needs_background": "light"
          }
        }
      ]
    },
    {
      "cell_type": "code",
      "source": [],
      "metadata": {
        "id": "YorNlB2oDKcq"
      },
      "execution_count": null,
      "outputs": []
    }
  ]
}