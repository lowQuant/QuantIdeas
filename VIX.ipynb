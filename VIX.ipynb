{
 "cells": [
  {
   "cell_type": "code",
   "execution_count": 4,
   "metadata": {},
   "outputs": [],
   "source": [
    "import yfinance as yf\n",
    "import pandas as pd\n",
    "import numpy as np\n",
    "import datetime"
   ]
  },
  {
   "cell_type": "code",
   "execution_count": 5,
   "metadata": {},
   "outputs": [],
   "source": [
    "# Other Options & Parameters -------------------------------------------------------------------\n",
    "pd.set_option('mode.chained_assignment',None)\n",
    " \n",
    "\n",
    "\n",
    "# Functions -------------------------------------------------------------------------------------\n",
    "def download_vix_and_spy_data():\n",
    "    d = datetime.timedelta(days=120)\n",
    "    end_date = datetime.date.today()\n",
    "    start_date = end_date - d\n",
    "    spx_df = yf.download(\"^GSPC\", start=start_date)\n",
    "    spx_df['Return'] = (spx_df['Close'] - spx_df['Close'].shift(1)) / spx_df['Close'].shift(1)\n",
    "    spx_df = spx_df[['Close','Return']]\n",
    "    spx_df['Realised Volatility'] = spx_df['Return'].rolling(21).std()*np.sqrt(252)*100\n",
    " \n",
    "    vix_df = yf.download(\"^VIX\", start=start_date)\n",
    "    vix_df['VIX'] = vix_df['Close']\n",
    "    vix_df = vix_df['VIX']\n",
    " \n",
    "    df = spx_df.merge(vix_df, left_index=True, right_index=True, how='inner')\n",
    "    df['VRP'] = df['VIX'].shift(21) - df['Realised Volatility']\n",
    " \n",
    "    return df"
   ]
  },
  {
   "cell_type": "code",
   "execution_count": 6,
   "metadata": {},
   "outputs": [
    {
     "name": "stdout",
     "output_type": "stream",
     "text": [
      "[*********************100%%**********************]  1 of 1 completed\n",
      "[*********************100%%**********************]  1 of 1 completed\n"
     ]
    }
   ],
   "source": [
    "df = download_vix_and_spy_data()"
   ]
  },
  {
   "cell_type": "code",
   "execution_count": 16,
   "metadata": {},
   "outputs": [
    {
     "data": {
      "text/plain": [
       "<IB connected to 127.0.0.1:7497 clientId=1>"
      ]
     },
     "execution_count": 16,
     "metadata": {},
     "output_type": "execute_result"
    }
   ],
   "source": [
    "from ib_insync import *\n",
    "\n",
    "util.startLoop()\n",
    "ib = IB()\n",
    "ib.connect('127.0.0.1', 7497, clientId=1) "
   ]
  },
  {
   "cell_type": "code",
   "execution_count": 26,
   "metadata": {},
   "outputs": [],
   "source": [
    "contract = Index('VIX', 'CBOE')\n"
   ]
  },
  {
   "cell_type": "code",
   "execution_count": 27,
   "metadata": {},
   "outputs": [
    {
     "data": {
      "text/plain": [
       "[Index(conId=13455763, symbol='VIX', exchange='CBOE', currency='USD', localSymbol='VIX')]"
      ]
     },
     "execution_count": 27,
     "metadata": {},
     "output_type": "execute_result"
    }
   ],
   "source": [
    "ib.qualifyContracts(contract)"
   ]
  },
  {
   "cell_type": "code",
   "execution_count": 32,
   "metadata": {},
   "outputs": [
    {
     "data": {
      "text/plain": [
       "[ContractDetails(contract=Contract(secType='IND', conId=13455763, symbol='VIX', exchange='CBOE', currency='USD', localSymbol='VIX'), marketName='', minTick=0.01, orderTypes='ACTIVETIM,AD,ADJUST,ALERT,ALLOC,BASKET,BENCHPX,COND,CONDORDER,DAY,DEACT,DEACTDIS,DEACTEOD,GAT,GTC,GTD,GTT,HID,LMT,NONALGO,OCA,SCALE,SCALERST,WHATIF', validExchanges='CBOE', priceMagnifier=1, underConId=0, longName='CBOE Volatility Index', contractMonth='', industry='Indices', category='Volatility Index', subcategory='*', timeZoneId='US/Central', tradingHours='20231204:0215-20231204:0815;20231204:0830-20231204:1600;20231205:0215-20231205:0815;20231205:0830-20231205:1600;20231206:0215-20231206:0815;20231206:0830-20231206:1600;20231207:0215-20231207:0815;20231207:0830-20231207:1600;20231208:0215-20231208:0815;20231208:0830-20231208:1600', liquidHours='20231204:0215-20231204:0815;20231204:0830-20231204:1600;20231205:0215-20231205:0815;20231205:0830-20231205:1600;20231206:0215-20231206:0815;20231206:0830-20231206:1600;20231207:0215-20231207:0815;20231207:0830-20231207:1600;20231208:0215-20231208:0815;20231208:0830-20231208:1600', evRule='', evMultiplier=0, mdSizeMultiplier=1, aggGroup=2147483647, underSymbol='', underSecType='', marketRuleIds='25', secIdList=[], realExpirationDate='', lastTradeTime='', stockType='', minSize=1.0, sizeIncrement=1.0, suggestedSizeIncrement=1.0, cusip='', ratings='', descAppend='', bondType='', couponType='', callable=False, putable=False, coupon=0, convertible=False, maturity='', issueDate='', nextOptionDate='', nextOptionType='', nextOptionPartial=False, notes='')]"
      ]
     },
     "execution_count": 32,
     "metadata": {},
     "output_type": "execute_result"
    }
   ],
   "source": [
    "ib.reqContractDetails(contract)"
   ]
  },
  {
   "cell_type": "code",
   "execution_count": 63,
   "metadata": {},
   "outputs": [],
   "source": [
    "def get_vxm_term_structure():\n",
    "    # Get today's date\n",
    "    today = datetime.datetime.now()\n",
    "\n",
    "    # Dictionary to store futures data\n",
    "    futures_data = {\n",
    "        'Contract': [],\n",
    "        'LastPrice': [],\n",
    "        'DTE': [],\n",
    "        'AnnualizedYield': []\n",
    "    }\n",
    "\n",
    "    # Set market data type to delayed frozen data\n",
    "    ib.reqMarketDataType(4)\n",
    "\n",
    "    # Get the spot rate from your function\n",
    "    spot_rate_df = download_vix_and_spy_data()\n",
    "    spot_rate = spot_rate_df['VIX'].iloc[-1]  # Latest VIX spot rate\n",
    "\n",
    "    for i in range(9):  # Next 9 maturities\n",
    "        # Calculate the contract month\n",
    "        month = (today.month + i - 1) % 12 + 1\n",
    "        year = today.year + (today.month + i - 1) // 12\n",
    "        contract_month = f\"{year}{month:02}\"\n",
    "\n",
    "        # Find the futures contract\n",
    "        fut = ib.qualifyContracts(Future('VXM', lastTradeDateOrContractMonth=contract_month))\n",
    "\n",
    "        if fut:\n",
    "            # Fetch the latest market data\n",
    "            market_data = ib.reqMktData(fut[0])\n",
    "            ib.sleep(1)  # Wait for the data to be fetched\n",
    "            last_price = market_data.last\n",
    "\n",
    "            # Ensure that we have valid market data\n",
    "            if last_price is not None:\n",
    "                # Calculate days until expiration\n",
    "                expiration_date = datetime.datetime.strptime(fut[0].lastTradeDateOrContractMonth, '%Y%m%d')\n",
    "                dte = (expiration_date - today).days\n",
    "\n",
    "                # Calculate annualized yield\n",
    "                annualized_yield = ((spot_rate / last_price) - 1) * (365 / dte)\n",
    "\n",
    "                # Append the data to the dictionary\n",
    "                futures_data['Contract'].append(fut[0].localSymbol)\n",
    "                futures_data['LastPrice'].append(last_price)\n",
    "                futures_data['DTE'].append(dte)\n",
    "                futures_data['AnnualizedYield'].append(annualized_yield)\n",
    "\n",
    "    # Convert the dictionary to DataFrame\n",
    "    futures_df = pd.DataFrame(futures_data)\n",
    "    return futures_df"
   ]
  },
  {
   "cell_type": "code",
   "execution_count": 64,
   "metadata": {},
   "outputs": [
    {
     "name": "stdout",
     "output_type": "stream",
     "text": [
      "[*********************100%%**********************]  1 of 1 completed\n",
      "[*********************100%%**********************]  1 of 1 completed\n"
     ]
    },
    {
     "name": "stderr",
     "output_type": "stream",
     "text": [
      "Error 200, reqId 59: Es wurde keine Wertpapierdefinition zu der Anfrage gefunden, contract: Future(symbol='VXM', lastTradeDateOrContractMonth='202406')\n",
      "Unknown contract: Future(symbol='VXM', lastTradeDateOrContractMonth='202406')\n",
      "Error 200, reqId 60: Es wurde keine Wertpapierdefinition zu der Anfrage gefunden, contract: Future(symbol='VXM', lastTradeDateOrContractMonth='202407')\n",
      "Unknown contract: Future(symbol='VXM', lastTradeDateOrContractMonth='202407')\n",
      "Error 200, reqId 61: Es wurde keine Wertpapierdefinition zu der Anfrage gefunden, contract: Future(symbol='VXM', lastTradeDateOrContractMonth='202408')\n",
      "Unknown contract: Future(symbol='VXM', lastTradeDateOrContractMonth='202408')\n"
     ]
    },
    {
     "data": {
      "text/html": [
       "<div>\n",
       "<style scoped>\n",
       "    .dataframe tbody tr th:only-of-type {\n",
       "        vertical-align: middle;\n",
       "    }\n",
       "\n",
       "    .dataframe tbody tr th {\n",
       "        vertical-align: top;\n",
       "    }\n",
       "\n",
       "    .dataframe thead th {\n",
       "        text-align: right;\n",
       "    }\n",
       "</style>\n",
       "<table border=\"1\" class=\"dataframe\">\n",
       "  <thead>\n",
       "    <tr style=\"text-align: right;\">\n",
       "      <th></th>\n",
       "      <th>Contract</th>\n",
       "      <th>LastPrice</th>\n",
       "      <th>DTE</th>\n",
       "      <th>AnnualizedYield</th>\n",
       "    </tr>\n",
       "  </thead>\n",
       "  <tbody>\n",
       "    <tr>\n",
       "      <th>0</th>\n",
       "      <td>VXMZ3</td>\n",
       "      <td>13.84</td>\n",
       "      <td>15</td>\n",
       "      <td>-1.336224</td>\n",
       "    </tr>\n",
       "    <tr>\n",
       "      <th>1</th>\n",
       "      <td>VXMF4</td>\n",
       "      <td>15.55</td>\n",
       "      <td>43</td>\n",
       "      <td>-1.348314</td>\n",
       "    </tr>\n",
       "    <tr>\n",
       "      <th>2</th>\n",
       "      <td>VXMG4</td>\n",
       "      <td>16.50</td>\n",
       "      <td>71</td>\n",
       "      <td>-1.065557</td>\n",
       "    </tr>\n",
       "    <tr>\n",
       "      <th>3</th>\n",
       "      <td>VXMH4</td>\n",
       "      <td>17.10</td>\n",
       "      <td>106</td>\n",
       "      <td>-0.809500</td>\n",
       "    </tr>\n",
       "    <tr>\n",
       "      <th>4</th>\n",
       "      <td>VXMJ4</td>\n",
       "      <td>17.60</td>\n",
       "      <td>134</td>\n",
       "      <td>-0.699542</td>\n",
       "    </tr>\n",
       "    <tr>\n",
       "      <th>5</th>\n",
       "      <td>VXMK4</td>\n",
       "      <td>18.00</td>\n",
       "      <td>169</td>\n",
       "      <td>-0.590335</td>\n",
       "    </tr>\n",
       "  </tbody>\n",
       "</table>\n",
       "</div>"
      ],
      "text/plain": [
       "  Contract  LastPrice  DTE  AnnualizedYield\n",
       "0    VXMZ3      13.84   15        -1.336224\n",
       "1    VXMF4      15.55   43        -1.348314\n",
       "2    VXMG4      16.50   71        -1.065557\n",
       "3    VXMH4      17.10  106        -0.809500\n",
       "4    VXMJ4      17.60  134        -0.699542\n",
       "5    VXMK4      18.00  169        -0.590335"
      ]
     },
     "execution_count": 64,
     "metadata": {},
     "output_type": "execute_result"
    }
   ],
   "source": [
    "vxm_term_structure = get_vxm_term_structure()\n",
    "vxm_term_structure"
   ]
  },
  {
   "cell_type": "code",
   "execution_count": 74,
   "metadata": {},
   "outputs": [
    {
     "data": {
      "text/plain": [
       "'VXMF4'"
      ]
     },
     "execution_count": 74,
     "metadata": {},
     "output_type": "execute_result"
    }
   ],
   "source": [
    "def choose_future_to_short(futures_data):\n",
    "    \"\"\"\n",
    "    Determine which VIX future to short based on the annualized yield and specific criteria.\n",
    "\n",
    "    Args:\n",
    "    futures_data (DataFrame): DataFrame containing futures contract data.\n",
    "\n",
    "    Returns:\n",
    "    str: The contract to short.\n",
    "    \"\"\"\n",
    "\n",
    "    # Sort the DataFrame by the absolute value of AnnualizedYield in ascending order\n",
    "    futures_data['AbsYield'] = futures_data['AnnualizedYield'].abs()\n",
    "    sorted_futures = futures_data.sort_values(by='AbsYield')\n",
    "\n",
    "    # Iterate through the sorted DataFrame\n",
    "    for i in range(len(sorted_futures) - 1):\n",
    "        current_future = sorted_futures.iloc[i]\n",
    "        next_future = sorted_futures.iloc[i + 1]\n",
    "\n",
    "        # Check if current future yield is equal to or slightly greater than the next\n",
    "        # and if the current price is below 16\n",
    "        if current_future['AbsYield'] >= next_future['AbsYield'] * 0.98 and current_future['LastPrice'] < 16:\n",
    "            # Choose the next month's future\n",
    "            return next_future['Contract']\n",
    "\n",
    "    # If no future meets the criteria, choose the one with the lowest absolute yield\n",
    "    return sorted_futures.iloc[0]['Contract']\n",
    "\n",
    "choose_future_to_short(vxm_term_structure)"
   ]
  },
  {
   "cell_type": "code",
   "execution_count": 75,
   "metadata": {},
   "outputs": [
    {
     "data": {
      "text/plain": [
       "True"
      ]
     },
     "execution_count": 75,
     "metadata": {},
     "output_type": "execute_result"
    }
   ],
   "source": [
    "# Check for market structure - Contango or Backwardation\n",
    "is_contango = vxm_term_structure['LastPrice'].is_monotonic_increasing\n",
    "is_contango"
   ]
  },
  {
   "cell_type": "code",
   "execution_count": 69,
   "metadata": {},
   "outputs": [
    {
     "name": "stdout",
     "output_type": "stream",
     "text": [
      "Number of contracts to trade: 2\n"
     ]
    }
   ],
   "source": [
    "def calculate_number_of_contracts(allocated_amount, contract_price, contract_size):\n",
    "    \"\"\"\n",
    "    Calculate the number of futures contracts to trade based on allocated amount.\n",
    "\n",
    "    Args:\n",
    "    allocated_amount (float): The dollar amount allocated for the futures contracts.\n",
    "    contract_price (float): The price of a single futures contract.\n",
    "    contract_size (float): The size of a single futures contract.\n",
    "\n",
    "    Returns:\n",
    "    int: The number of futures contracts to trade.\n",
    "    \"\"\"\n",
    "    total_value = contract_price * contract_size\n",
    "    number_of_contracts = allocated_amount // total_value\n",
    "    return int(number_of_contracts)\n",
    "\n",
    "# Example usage\n",
    "allocated_amount = 0.07*57000  # $100,000 allocated for trading\n",
    "contract_price = 15.55  # Example futures contract price\n",
    "contract_size = 100  # This is an example size, you need to replace it with the actual contract size\n",
    "\n",
    "num_contracts = calculate_number_of_contracts(allocated_amount, contract_price, contract_size)\n",
    "print(f\"Number of contracts to trade: {num_contracts}\")\n"
   ]
  },
  {
   "cell_type": "code",
   "execution_count": 38,
   "metadata": {},
   "outputs": [
    {
     "name": "stdout",
     "output_type": "stream",
     "text": [
      "202312\n",
      "202401\n",
      "202402\n",
      "202403\n",
      "202404\n",
      "202405\n",
      "202406\n",
      "202407\n",
      "202408\n"
     ]
    }
   ],
   "source": [
    "\n",
    "today = datetime.datetime.now()\n",
    "\n",
    "# DataFrame to store futures data\n",
    "futures_data = pd.DataFrame()\n",
    "\n",
    "for i in range(9):  # Next 9 maturities\n",
    "    # Find the futures contract\n",
    "    print(f\"{today.year + (today.month + i - 1) // 12}{(today.month + i - 1) % 12 + 1:02}\")"
   ]
  },
  {
   "cell_type": "code",
   "execution_count": 40,
   "metadata": {},
   "outputs": [],
   "source": [
    "ib.reqMarketDataType(4)\n",
    "market_data = ib.reqMktData(fut[0]).last"
   ]
  },
  {
   "cell_type": "code",
   "execution_count": 42,
   "metadata": {},
   "outputs": [
    {
     "data": {
      "text/plain": [
       "15.55"
      ]
     },
     "execution_count": 42,
     "metadata": {},
     "output_type": "execute_result"
    }
   ],
   "source": [
    "market_data.last"
   ]
  },
  {
   "cell_type": "code",
   "execution_count": 43,
   "metadata": {},
   "outputs": [
    {
     "name": "stdout",
     "output_type": "stream",
     "text": [
      "[*********************100%%**********************]  1 of 1 completed\n",
      "[*********************100%%**********************]  1 of 1 completed\n"
     ]
    },
    {
     "data": {
      "text/html": [
       "<div>\n",
       "<style scoped>\n",
       "    .dataframe tbody tr th:only-of-type {\n",
       "        vertical-align: middle;\n",
       "    }\n",
       "\n",
       "    .dataframe tbody tr th {\n",
       "        vertical-align: top;\n",
       "    }\n",
       "\n",
       "    .dataframe thead th {\n",
       "        text-align: right;\n",
       "    }\n",
       "</style>\n",
       "<table border=\"1\" class=\"dataframe\">\n",
       "  <thead>\n",
       "    <tr style=\"text-align: right;\">\n",
       "      <th></th>\n",
       "      <th>Close</th>\n",
       "      <th>Return</th>\n",
       "      <th>Realised Volatility</th>\n",
       "      <th>VIX</th>\n",
       "      <th>VRP</th>\n",
       "    </tr>\n",
       "    <tr>\n",
       "      <th>Date</th>\n",
       "      <th></th>\n",
       "      <th></th>\n",
       "      <th></th>\n",
       "      <th></th>\n",
       "      <th></th>\n",
       "    </tr>\n",
       "  </thead>\n",
       "  <tbody>\n",
       "    <tr>\n",
       "      <th>2023-08-07</th>\n",
       "      <td>4518.439941</td>\n",
       "      <td>NaN</td>\n",
       "      <td>NaN</td>\n",
       "      <td>15.77</td>\n",
       "      <td>NaN</td>\n",
       "    </tr>\n",
       "    <tr>\n",
       "      <th>2023-08-08</th>\n",
       "      <td>4499.379883</td>\n",
       "      <td>-0.004218</td>\n",
       "      <td>NaN</td>\n",
       "      <td>15.99</td>\n",
       "      <td>NaN</td>\n",
       "    </tr>\n",
       "    <tr>\n",
       "      <th>2023-08-09</th>\n",
       "      <td>4467.709961</td>\n",
       "      <td>-0.007039</td>\n",
       "      <td>NaN</td>\n",
       "      <td>15.96</td>\n",
       "      <td>NaN</td>\n",
       "    </tr>\n",
       "    <tr>\n",
       "      <th>2023-08-10</th>\n",
       "      <td>4468.830078</td>\n",
       "      <td>0.000251</td>\n",
       "      <td>NaN</td>\n",
       "      <td>15.85</td>\n",
       "      <td>NaN</td>\n",
       "    </tr>\n",
       "    <tr>\n",
       "      <th>2023-08-11</th>\n",
       "      <td>4464.049805</td>\n",
       "      <td>-0.001070</td>\n",
       "      <td>NaN</td>\n",
       "      <td>14.84</td>\n",
       "      <td>NaN</td>\n",
       "    </tr>\n",
       "    <tr>\n",
       "      <th>...</th>\n",
       "      <td>...</td>\n",
       "      <td>...</td>\n",
       "      <td>...</td>\n",
       "      <td>...</td>\n",
       "      <td>...</td>\n",
       "    </tr>\n",
       "    <tr>\n",
       "      <th>2023-11-28</th>\n",
       "      <td>4554.890137</td>\n",
       "      <td>0.000980</td>\n",
       "      <td>11.333491</td>\n",
       "      <td>12.69</td>\n",
       "      <td>9.936510</td>\n",
       "    </tr>\n",
       "    <tr>\n",
       "      <th>2023-11-29</th>\n",
       "      <td>4550.580078</td>\n",
       "      <td>-0.000946</td>\n",
       "      <td>11.189135</td>\n",
       "      <td>12.98</td>\n",
       "      <td>8.560865</td>\n",
       "    </tr>\n",
       "    <tr>\n",
       "      <th>2023-11-30</th>\n",
       "      <td>4567.799805</td>\n",
       "      <td>0.003784</td>\n",
       "      <td>11.159825</td>\n",
       "      <td>12.92</td>\n",
       "      <td>6.980174</td>\n",
       "    </tr>\n",
       "    <tr>\n",
       "      <th>2023-12-01</th>\n",
       "      <td>4594.629883</td>\n",
       "      <td>0.005874</td>\n",
       "      <td>10.937920</td>\n",
       "      <td>12.63</td>\n",
       "      <td>5.932081</td>\n",
       "    </tr>\n",
       "    <tr>\n",
       "      <th>2023-12-04</th>\n",
       "      <td>4569.779785</td>\n",
       "      <td>-0.005409</td>\n",
       "      <td>9.934774</td>\n",
       "      <td>13.05</td>\n",
       "      <td>5.725226</td>\n",
       "    </tr>\n",
       "  </tbody>\n",
       "</table>\n",
       "<p>84 rows × 5 columns</p>\n",
       "</div>"
      ],
      "text/plain": [
       "                  Close    Return  Realised Volatility    VIX       VRP\n",
       "Date                                                                   \n",
       "2023-08-07  4518.439941       NaN                  NaN  15.77       NaN\n",
       "2023-08-08  4499.379883 -0.004218                  NaN  15.99       NaN\n",
       "2023-08-09  4467.709961 -0.007039                  NaN  15.96       NaN\n",
       "2023-08-10  4468.830078  0.000251                  NaN  15.85       NaN\n",
       "2023-08-11  4464.049805 -0.001070                  NaN  14.84       NaN\n",
       "...                 ...       ...                  ...    ...       ...\n",
       "2023-11-28  4554.890137  0.000980            11.333491  12.69  9.936510\n",
       "2023-11-29  4550.580078 -0.000946            11.189135  12.98  8.560865\n",
       "2023-11-30  4567.799805  0.003784            11.159825  12.92  6.980174\n",
       "2023-12-01  4594.629883  0.005874            10.937920  12.63  5.932081\n",
       "2023-12-04  4569.779785 -0.005409             9.934774  13.05  5.725226\n",
       "\n",
       "[84 rows x 5 columns]"
      ]
     },
     "execution_count": 43,
     "metadata": {},
     "output_type": "execute_result"
    }
   ],
   "source": [
    "spot_rate_df = download_vix_and_spy_data()\n",
    "spot_rate_df\n"
   ]
  },
  {
   "cell_type": "code",
   "execution_count": 44,
   "metadata": {},
   "outputs": [
    {
     "data": {
      "text/plain": [
       "13.050000190734863"
      ]
     },
     "execution_count": 44,
     "metadata": {},
     "output_type": "execute_result"
    }
   ],
   "source": [
    "spot_rate = spot_rate_df['VIX'].iloc[-1]  \n",
    "spot_rate"
   ]
  },
  {
   "cell_type": "code",
   "execution_count": null,
   "metadata": {},
   "outputs": [],
   "source": []
  }
 ],
 "metadata": {
  "kernelspec": {
   "display_name": "base",
   "language": "python",
   "name": "python3"
  },
  "language_info": {
   "codemirror_mode": {
    "name": "ipython",
    "version": 3
   },
   "file_extension": ".py",
   "mimetype": "text/x-python",
   "name": "python",
   "nbconvert_exporter": "python",
   "pygments_lexer": "ipython3",
   "version": "3.11.6"
  }
 },
 "nbformat": 4,
 "nbformat_minor": 2
}
